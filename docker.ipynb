{
 "cells": [
  {
   "cell_type": "code",
   "execution_count": null,
   "id": "2d36c453-48c4-49fb-b64b-0bf616834f2c",
   "metadata": {},
   "outputs": [
    {
     "name": "stdout",
     "output_type": "stream",
     "text": [
      "Overwriting Dockerfile\n"
     ]
    }
   ],
   "source": [
    "%%writefile Dockerfile\n",
    "\n",
    "\n",
    "# Utilisez une image Python de base\n",
    "FROM python:3.9.20\n",
    "\n",
    "\n",
    "# Définissez le répertoire de travail dans le conteneur\n",
    "WORKDIR /app\n",
    "\n",
    "# Copier le fichier requirements.txt et installer les dépendances\n",
    "COPY requirements.txt requirements.txt\n",
    "RUN pip install --no-cache-dir -r requirements.txt\n",
    "\n",
    "# Copier les fichiers nécessaires dans l'image\n",
    "COPY app.py /app\n",
    "COPY MLR_model.pkl /app\n",
    "COPY scaler.pkl /app\n",
    "COPY index.html /app\n",
    "COPY predict.html /app  # This line copies the templates folder with index.html and predict.html\n",
    "COPY static /app/static\n",
    "\n",
    "\n",
    "# Exposez le port 8080 (ou le port utilisé par votre application Flask)\n",
    "EXPOSE 8080\n",
    "\n",
    "# Commande pour lancer l’application Flask\n",
    "CMD [\"python\", \"app.py\"]\n"
   ]
  },
  {
   "cell_type": "code",
   "execution_count": 2,
   "id": "dc3dd1fc-23bc-4f49-90ee-a845af8c52c0",
   "metadata": {},
   "outputs": [
    {
     "name": "stdout",
     "output_type": "stream",
     "text": [
      "Overwriting requirements.txt\n"
     ]
    }
   ],
   "source": [
    "%%writefile requirements.txt\n",
    "Flask==3.0.3\n",
    "werkzeug==3.0.3\n",
    "scikit-learn==1.2.2\n",
    "pandas==2.1.4\n",
    "joblib==1.2.0\n"
   ]
  },
  {
   "cell_type": "code",
   "execution_count": 69,
   "id": "118b07ba-e6bd-4a96-9006-33b9f3c78ab1",
   "metadata": {},
   "outputs": [
    {
     "name": "stdout",
     "output_type": "stream",
     "text": [
      "Overwriting .dockerignore\n"
     ]
    }
   ],
   "source": [
    "%%writefile .dockerignore\n",
    "# Exclure tous les dossiers système susceptibles de causer des erreurs\n",
    ".git\n",
    ".venv\n",
    "__pycache__\n",
    "*.pyc\n",
    "*.pyo\n",
    ".DS_Store\n",
    "AppData/Local/ElevatedDiagnostics\n",
    "AppData/Local/Temp\n",
    "AppData/Roaming\n"
   ]
  },
  {
   "cell_type": "code",
   "execution_count": null,
   "id": "c957f6e2-5abc-433b-9c02-ae05f5d08193",
   "metadata": {},
   "outputs": [
    {
     "name": "stderr",
     "output_type": "stream",
     "text": [
      "#0 building with \"desktop-linux\" instance using docker driver\n",
      "\n",
      "#1 [internal] load build definition from dockerfile\n",
      "#1 transferring dockerfile: 620B done\n",
      "#1 DONE 0.0s\n",
      "\n",
      "#2 [internal] load metadata for docker.io/library/python:3.9.20\n",
      "#2 ...\n",
      "\n",
      "#3 [auth] library/python:pull token for registry-1.docker.io\n",
      "#3 DONE 0.0s\n",
      "\n",
      "#2 [internal] load metadata for docker.io/library/python:3.9.20\n",
      "#2 DONE 1.0s\n",
      "\n",
      "#4 [internal] load .dockerignore\n",
      "#4 transferring context: 238B done\n",
      "#4 DONE 0.0s\n",
      "\n",
      "#5 [1/7] FROM docker.io/library/python:3.9.20@sha256:ed8b9dd4e9f89c111f4bdb85a55f8c9f0e22796a298449380b15f627d9914095\n",
      "#5 DONE 0.0s\n",
      "\n",
      "#6 [internal] load build context\n",
      "#6 transferring context: 218B done\n",
      "#6 DONE 0.0s\n",
      "\n",
      "#7 [2/7] WORKDIR /app\n",
      "#7 CACHED\n",
      "\n",
      "#8 [5/7] COPY app.py /app\n",
      "#8 CACHED\n",
      "\n",
      "#9 [3/7] COPY requirements.txt requirements.txt\n",
      "#9 CACHED\n",
      "\n",
      "#10 [4/7] RUN pip install --no-cache-dir -r requirements.txt\n",
      "#10 CACHED\n",
      "\n",
      "#11 [6/7] COPY MLR_model.pkl /app\n",
      "#11 CACHED\n",
      "\n",
      "#12 [7/7] COPY scaler.pkl /app\n",
      "#12 CACHED\n",
      "\n",
      "#13 exporting to image\n",
      "#13 exporting layers done\n",
      "#13 writing image sha256:7b5723addcb72679dbd24c8a0f9a821ecf4f91da969cf438df627f7423b69a68 done\n",
      "#13 naming to docker.io/library/flask-app done\n",
      "#13 DONE 0.0s\n",
      "\n",
      "View build details: docker-desktop://dashboard/build/desktop-linux/desktop-linux/topbc3eto3872c9n796yn8ypm\n"
     ]
    }
   ],
   "source": [
    "!docker buildx build -t flask-app .\n",
    "\n"
   ]
  },
  {
   "cell_type": "code",
   "execution_count": 1,
   "id": "1a915eda-19e8-4269-8b04-ef6131c09432",
   "metadata": {},
   "outputs": [
    {
     "name": "stdout",
     "output_type": "stream",
     "text": [
      "^C\n"
     ]
    }
   ],
   "source": [
    "!docker run -p 8080:8080 flask-app\n"
   ]
  }
 ],
 "metadata": {
  "kernelspec": {
   "display_name": "base",
   "language": "python",
   "name": "python3"
  },
  "language_info": {
   "codemirror_mode": {
    "name": "ipython",
    "version": 3
   },
   "file_extension": ".py",
   "mimetype": "text/x-python",
   "name": "python",
   "nbconvert_exporter": "python",
   "pygments_lexer": "ipython3",
   "version": "3.9.20"
  }
 },
 "nbformat": 4,
 "nbformat_minor": 5
}

{
 "cells": [
  {
   "cell_type": "code",
   "execution_count": 3,
   "id": "f9967c55-d113-4509-8191-17bb0ffbccf2",
   "metadata": {},
   "outputs": [
    {
     "name": "stdout",
     "output_type": "stream",
     "text": [
      "Predicted Price: {'prediction': 5270367.410894902}\n"
     ]
    }
   ],
   "source": [
    "import requests\n",
    "\n",
    "# Test /predict endpoint\n",
    "url = \"http://127.0.0.1:8080/predict\"\n",
    "data = {\n",
    "    \"area\": 5150,\n",
    "    \"mainroad\": 1,\n",
    "    \"guestroom\": 0,\n",
    "    \"basement\": 0,\n",
    "    \"hotwaterheating\": 0,\n",
    "    \"airconditioning\": 0,\n",
    "    \"prefarea\": 0,\n",
    "    \"furnishingstatus_semi_furnished\": 1,\n",
    "    \"furnishingstatus_unfurnished\": 0,\n",
    "    \"bathrooms_2\": 0,\n",
    "    \"bathrooms_3\": 0,\n",
    "    \"bathrooms_4\": 0,\n",
    "    \"stories_2\": 1,\n",
    "    \"stories_3\": 0,\n",
    "    \"stories_4\": 0,\n",
    "    \"parking_1\": 0,\n",
    "    \"parking_2\": 0,\n",
    "    \"parking_3\": 1,\n",
    "    \"bedrooms_2\": 0,\n",
    "    \"bedrooms_3\": 1,\n",
    "    \"bedrooms_4\": 0,\n",
    "    \"bedrooms_5\": 0,\n",
    "    \"bedrooms_6\": 1\n",
    "}\n",
    "response = requests.post(url, json=data)\n",
    "print(\"Predicted Price:\", response.json())\n",
    "\n",
    "\n"
   ]
  },
  {
   "cell_type": "markdown",
   "id": "d4ad0d43-257d-44b5-bb9c-d1ebdb77413e",
   "metadata": {},
   "source": [
    "Avec des valeurs proches de ceux de la moyenne on a une valeur proche d'à peu près 20%, ce qui indique que notre API est bien fonctionnel"
   ]
  }
 ],
 "metadata": {
  "kernelspec": {
   "display_name": "base",
   "language": "python",
   "name": "python3"
  },
  "language_info": {
   "codemirror_mode": {
    "name": "ipython",
    "version": 3
   },
   "file_extension": ".py",
   "mimetype": "text/x-python",
   "name": "python",
   "nbconvert_exporter": "python",
   "pygments_lexer": "ipython3",
   "version": "3.9.20"
  }
 },
 "nbformat": 4,
 "nbformat_minor": 5
}

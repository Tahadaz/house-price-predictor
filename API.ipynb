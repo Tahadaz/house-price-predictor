{
 "cells": [
  {
   "cell_type": "code",
   "execution_count": 1,
   "id": "b82a2370-62eb-44a7-ba9c-4a036c4466db",
   "metadata": {},
   "outputs": [
    {
     "name": "stdout",
     "output_type": "stream",
     "text": [
      "Overwriting app.py\n"
     ]
    }
   ],
   "source": [
    "%%writefile app.py\n",
    "\n",
    "from flask import Flask, render_template, request, jsonify\n",
    "import joblib\n",
    "import pandas as pd\n",
    "import numpy as np\n",
    "\n",
    "app = Flask(__name__)\n",
    "\n",
    "model = joblib.load('MLR_model.pkl')\n",
    "scaler_loaded = joblib.load('scaler.pkl')\n",
    "\n",
    "@app.route('/')\n",
    "def home():\n",
    "    return render_template('index.html')\n",
    "\n",
    "@app.route('/predict')\n",
    "def predict_page():\n",
    "    return render_template('predict.html')\n",
    "\n",
    "@app.route('/predict', methods=['POST'])\n",
    "def predict():\n",
    "    data = request.json\n",
    "    # Log incoming data to verify values\n",
    "    print(\"Incoming data:\", data)\n",
    "\n",
    "    # Extract and validate features with defaults and type conversion\n",
    "    features = [\n",
    "        float(data.get('area', 0)),\n",
    "        int(data.get('mainroad', 0)),\n",
    "        int(data.get('guestroom', 0)),\n",
    "        int(data.get('basement', 0)),\n",
    "        int(data.get('hotwaterheating', 0)),\n",
    "        int(data.get('airconditioning', 0)),\n",
    "        int(data.get('prefarea', 0)),\n",
    "        int(data.get('furnishingstatus_semi_furnished', 0)),\n",
    "        int(data.get('furnishingstatus_unfurnished', 0)),\n",
    "        int(data.get('bathrooms_2', 0)),\n",
    "        int(data.get('bathrooms_3', 0)),\n",
    "        int(data.get('bathrooms_4', 0)),\n",
    "        int(data.get('stories_2', 0)),\n",
    "        int(data.get('stories_3', 0)),\n",
    "        int(data.get('stories_4', 0)),\n",
    "        int(data.get('parking_1', 0)),\n",
    "        int(data.get('parking_2', 0)),\n",
    "        int(data.get('parking_3', 0)),\n",
    "        int(data.get('bedrooms_2', 0)),\n",
    "        int(data.get('bedrooms_3', 0)),\n",
    "        int(data.get('bedrooms_4', 0)),\n",
    "        int(data.get('bedrooms_5', 0)),\n",
    "        int(data.get('bedrooms_6', 0))\n",
    "    ]\n",
    "\n",
    "    # Convert features to DataFrame\n",
    "    features_df = pd.DataFrame([features], columns=[\n",
    "        'area', 'mainroad', 'guestroom', 'basement', 'hotwaterheating',\n",
    "        'airconditioning', 'prefarea', 'furnishingstatus_semi_furnished',\n",
    "        'furnishingstatus_unfurnished', 'bathrooms_2', 'bathrooms_3',\n",
    "        'bathrooms_4', 'stories_2', 'stories_3', 'stories_4', 'parking_1',\n",
    "        'parking_2', 'parking_3', 'bedrooms_2', 'bedrooms_3', 'bedrooms_4',\n",
    "        'bedrooms_5', 'bedrooms_6'\n",
    "    ])\n",
    "\n",
    "    # Scale the features\n",
    "    features_scaled = scaler_loaded.transform(features_df)\n",
    "\n",
    "    # Predict the price\n",
    "    prediction = model.predict(features_scaled)[0]\n",
    "\n",
    "    return jsonify({\"prediction\": prediction})\n",
    "\n",
    "@app.route('/health', methods=['GET'])\n",
    "def health():\n",
    "    return jsonify({\"status\": \"ok\"})\n",
    "\n",
    "if __name__ == '__main__':\n",
    "    app.run(host='0.0.0.0', port=8080)\n"
   ]
  }
 ],
 "metadata": {
  "kernelspec": {
   "display_name": "base",
   "language": "python",
   "name": "python3"
  },
  "language_info": {
   "codemirror_mode": {
    "name": "ipython",
    "version": 3
   },
   "file_extension": ".py",
   "mimetype": "text/x-python",
   "name": "python",
   "nbconvert_exporter": "python",
   "pygments_lexer": "ipython3",
   "version": "3.9.20"
  }
 },
 "nbformat": 4,
 "nbformat_minor": 5
}
